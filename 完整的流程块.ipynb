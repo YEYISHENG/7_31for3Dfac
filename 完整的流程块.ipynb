{
  "nbformat": 4,
  "nbformat_minor": 0,
  "metadata": {
    "colab": {
      "name": "Untitled4.ipynb",
      "provenance": [],
      "authorship_tag": "ABX9TyPJiUZ6oEafMSLi6usQcgDC",
      "include_colab_link": true
    },
    "kernelspec": {
      "name": "python3",
      "display_name": "Python 3"
    },
    "language_info": {
      "name": "python"
    },
    "accelerator": "GPU",
    "gpuClass": "standard"
  },
  "cells": [
    {
      "cell_type": "markdown",
      "metadata": {
        "id": "view-in-github",
        "colab_type": "text"
      },
      "source": [
        "<a href=\"https://colab.research.google.com/github/YEYISHENG/7_31for3Dfac/blob/main/%E5%AE%8C%E6%95%B4%E7%9A%84%E6%B5%81%E7%A8%8B%E5%9D%97.ipynb\" target=\"_parent\"><img src=\"https://colab.research.google.com/assets/colab-badge.svg\" alt=\"Open In Colab\"/></a>"
      ]
    },
    {
      "cell_type": "code",
      "execution_count": 1,
      "metadata": {
        "colab": {
          "base_uri": "https://localhost:8080/"
        },
        "id": "9YefbT4aqvwh",
        "outputId": "6cc967e6-30a9-4180-fb58-49cfdb48487c"
      },
      "outputs": [
        {
          "output_type": "stream",
          "name": "stdout",
          "text": [
            "Mounted at /content/gdrive\n"
          ]
        }
      ],
      "source": [
        "from google.colab import drive\n",
        "drive.mount('/content/gdrive') #make colab keep connect with my google drive"
      ]
    },
    {
      "cell_type": "code",
      "source": [
        "!git clone https://github.com/sicxu/Deep3DFaceRecon_pytorch.git --recursive\n",
        "%cd Deep3DFaceRecon_pytorch/"
      ],
      "metadata": {
        "colab": {
          "base_uri": "https://localhost:8080/"
        },
        "id": "IBtqvMS4q3_e",
        "outputId": "d89545e5-fb3c-4450-e166-89c9eca3eeec"
      },
      "execution_count": 2,
      "outputs": [
        {
          "output_type": "stream",
          "name": "stdout",
          "text": [
            "Cloning into 'Deep3DFaceRecon_pytorch'...\n",
            "remote: Enumerating objects: 159, done.\u001b[K\n",
            "remote: Counting objects: 100% (3/3), done.\u001b[K\n",
            "remote: Compressing objects: 100% (3/3), done.\u001b[K\n",
            "remote: Total 159 (delta 0), reused 2 (delta 0), pack-reused 156\u001b[K\n",
            "Receiving objects: 100% (159/159), 14.65 MiB | 34.97 MiB/s, done.\n",
            "Resolving deltas: 100% (32/32), done.\n",
            "Submodule 'nvdiffrast' (https://github.com/NVlabs/nvdiffrast.git) registered for path 'nvdiffrast'\n",
            "Cloning into '/content/Deep3DFaceRecon_pytorch/nvdiffrast'...\n",
            "remote: Enumerating objects: 270, done.        \n",
            "remote: Total 270 (delta 0), reused 0 (delta 0), pack-reused 270        \n",
            "Receiving objects: 100% (270/270), 11.08 MiB | 27.88 MiB/s, done.\n",
            "Resolving deltas: 100% (117/117), done.\n",
            "Submodule path 'nvdiffrast': checked out 'a4e7a4db7e09695b4efc7641cc6b044ef706f953'\n",
            "/content/Deep3DFaceRecon_pytorch\n"
          ]
        }
      ]
    },
    {
      "cell_type": "code",
      "source": [
        "%cd nvdiffrast\n",
        "!pip install .\n"
      ],
      "metadata": {
        "colab": {
          "base_uri": "https://localhost:8080/"
        },
        "id": "aQ1xrh_jq51d",
        "outputId": "a01436c8-6e51-445a-d0bd-09fd39549c66"
      },
      "execution_count": 3,
      "outputs": [
        {
          "output_type": "stream",
          "name": "stdout",
          "text": [
            "/content/Deep3DFaceRecon_pytorch/nvdiffrast\n",
            "Looking in indexes: https://pypi.org/simple, https://us-python.pkg.dev/colab-wheels/public/simple/\n",
            "Processing /content/Deep3DFaceRecon_pytorch/nvdiffrast\n",
            "\u001b[33m  DEPRECATION: A future pip version will change local packages to be built in-place without first copying to a temporary directory. We recommend you use --use-feature=in-tree-build to test your packages with this new behavior before it becomes the default.\n",
            "   pip 21.3 will remove support for this functionality. You can find discussion regarding this at https://github.com/pypa/pip/issues/7555.\u001b[0m\n",
            "Requirement already satisfied: numpy in /usr/local/lib/python3.7/dist-packages (from nvdiffrast==0.2.5) (1.21.6)\n",
            "Building wheels for collected packages: nvdiffrast\n",
            "  Building wheel for nvdiffrast (setup.py) ... \u001b[?25l\u001b[?25hdone\n",
            "  Created wheel for nvdiffrast: filename=nvdiffrast-0.2.5-py3-none-any.whl size=93570 sha256=c06c92646e81ee1adb8d6ed8c27cba56dd9795e66d1e41e1d3120d8ad5d09902\n",
            "  Stored in directory: /tmp/pip-ephem-wheel-cache-9k9769ur/wheels/a0/7f/cc/08f3132d35245fd93727e3c8bd8cee394d29d8e64058a2645f\n",
            "Successfully built nvdiffrast\n",
            "Installing collected packages: nvdiffrast\n",
            "Successfully installed nvdiffrast-0.2.5\n"
          ]
        }
      ]
    },
    {
      "cell_type": "code",
      "source": [
        "%cd ..\n",
        "!git clone https://github.com/deepinsight/insightface.git\n",
        "!cp -r ./insightface/recognition/arcface_torch ./models/"
      ],
      "metadata": {
        "colab": {
          "base_uri": "https://localhost:8080/"
        },
        "id": "JgX3cRzzq8iI",
        "outputId": "fabe6355-cd92-474d-cc22-13f703ef8dea"
      },
      "execution_count": 4,
      "outputs": [
        {
          "output_type": "stream",
          "name": "stdout",
          "text": [
            "/content/Deep3DFaceRecon_pytorch\n",
            "Cloning into 'insightface'...\n",
            "remote: Enumerating objects: 9337, done.\u001b[K\n",
            "remote: Counting objects: 100% (31/31), done.\u001b[K\n",
            "remote: Compressing objects: 100% (19/19), done.\u001b[K\n",
            "remote: Total 9337 (delta 16), reused 19 (delta 12), pack-reused 9306\u001b[K\n",
            "Receiving objects: 100% (9337/9337), 30.82 MiB | 34.30 MiB/s, done.\n",
            "Resolving deltas: 100% (5072/5072), done.\n"
          ]
        }
      ]
    },
    {
      "cell_type": "code",
      "source": [
        "!rm -rf  /content/Deep3DFaceRecon_pytorch/BFM\n",
        "!cp -rf /content/gdrive/MyDrive/models/Deep3DFaceRecon_pytorch/BFM BFM\n",
        "!cp -rf /content/gdrive/MyDrive/models/Deep3DFaceRecon_pytorch/chechpoints /content/Deep3DFaceRecon_pytorch/checkpoints  \n",
        "!cp -rf /content/gdrive/MyDrive/models/Deep3DFaceRecon_pytorch/shape_predictor_68_face_landmarks.dat /content/Deep3DFaceRecon_pytorch\n",
        "!cp -rf /content/gdrive/MyDrive/models/Deep3DFaceRecon_pytorch/dlib_for_detector.py /content/Deep3DFaceRecon_pytorch\n",
        "!cp -rf /content/gdrive/MyDrive/models/Deep3DFaceRecon_pytorch/test_images /content/Deep3DFaceRecon_pytorch/test_images"
      ],
      "metadata": {
        "id": "WK1keARjq-kl"
      },
      "execution_count": 5,
      "outputs": []
    },
    {
      "cell_type": "code",
      "source": [
        "!pip install numpy==1.18.1\n",
        "!pip install kornia==0.5.5\n",
        "!pip install dominate==2.6.0\n",
        "!pip install ninja\n",
        "!pip install trimesh==3.9.20\n"
      ],
      "metadata": {
        "colab": {
          "base_uri": "https://localhost:8080/",
          "height": 959
        },
        "id": "Is2LXtrWrlM9",
        "outputId": "7f5354a8-7e55-4c96-9e84-071e594bc975"
      },
      "execution_count": 6,
      "outputs": [
        {
          "output_type": "stream",
          "name": "stdout",
          "text": [
            "Looking in indexes: https://pypi.org/simple, https://us-python.pkg.dev/colab-wheels/public/simple/\n",
            "Collecting numpy==1.18.1\n",
            "  Downloading numpy-1.18.1-cp37-cp37m-manylinux1_x86_64.whl (20.1 MB)\n",
            "\u001b[K     |████████████████████████████████| 20.1 MB 102.4 MB/s \n",
            "\u001b[?25hInstalling collected packages: numpy\n",
            "  Attempting uninstall: numpy\n",
            "    Found existing installation: numpy 1.21.6\n",
            "    Uninstalling numpy-1.21.6:\n",
            "      Successfully uninstalled numpy-1.21.6\n",
            "\u001b[31mERROR: pip's dependency resolver does not currently take into account all the packages that are installed. This behaviour is the source of the following dependency conflicts.\n",
            "xarray-einstats 0.2.2 requires numpy>=1.21, but you have numpy 1.18.1 which is incompatible.\n",
            "tensorflow 2.8.2+zzzcolab20220719082949 requires numpy>=1.20, but you have numpy 1.18.1 which is incompatible.\n",
            "tables 3.7.0 requires numpy>=1.19.0, but you have numpy 1.18.1 which is incompatible.\n",
            "kapre 0.3.7 requires numpy>=1.18.5, but you have numpy 1.18.1 which is incompatible.\n",
            "jaxlib 0.3.14+cuda11.cudnn805 requires numpy>=1.19, but you have numpy 1.18.1 which is incompatible.\n",
            "jax 0.3.14 requires numpy>=1.19, but you have numpy 1.18.1 which is incompatible.\n",
            "datascience 0.10.6 requires folium==0.2.1, but you have folium 0.8.3 which is incompatible.\n",
            "cmdstanpy 1.0.4 requires numpy>=1.21, but you have numpy 1.18.1 which is incompatible.\n",
            "albumentations 0.1.12 requires imgaug<0.2.7,>=0.2.5, but you have imgaug 0.2.9 which is incompatible.\u001b[0m\n",
            "Successfully installed numpy-1.18.1\n"
          ]
        },
        {
          "output_type": "display_data",
          "data": {
            "application/vnd.colab-display-data+json": {
              "pip_warning": {
                "packages": [
                  "numpy"
                ]
              }
            }
          },
          "metadata": {}
        },
        {
          "output_type": "stream",
          "name": "stdout",
          "text": [
            "Looking in indexes: https://pypi.org/simple, https://us-python.pkg.dev/colab-wheels/public/simple/\n",
            "Collecting kornia==0.5.5\n",
            "  Downloading kornia-0.5.5-py2.py3-none-any.whl (292 kB)\n",
            "\u001b[K     |████████████████████████████████| 292 kB 5.2 MB/s \n",
            "\u001b[?25hRequirement already satisfied: torch>=1.6.0 in /usr/local/lib/python3.7/dist-packages (from kornia==0.5.5) (1.12.0+cu113)\n",
            "Requirement already satisfied: numpy<=1.19 in /usr/local/lib/python3.7/dist-packages (from kornia==0.5.5) (1.18.1)\n",
            "Requirement already satisfied: typing-extensions in /usr/local/lib/python3.7/dist-packages (from torch>=1.6.0->kornia==0.5.5) (4.1.1)\n",
            "Installing collected packages: kornia\n",
            "Successfully installed kornia-0.5.5\n",
            "Looking in indexes: https://pypi.org/simple, https://us-python.pkg.dev/colab-wheels/public/simple/\n",
            "Collecting dominate==2.6.0\n",
            "  Downloading dominate-2.6.0-py2.py3-none-any.whl (29 kB)\n",
            "Installing collected packages: dominate\n",
            "Successfully installed dominate-2.6.0\n",
            "Looking in indexes: https://pypi.org/simple, https://us-python.pkg.dev/colab-wheels/public/simple/\n",
            "Collecting ninja\n",
            "  Downloading ninja-1.10.2.3-py2.py3-none-manylinux_2_5_x86_64.manylinux1_x86_64.whl (108 kB)\n",
            "\u001b[K     |████████████████████████████████| 108 kB 5.1 MB/s \n",
            "\u001b[?25hInstalling collected packages: ninja\n",
            "Successfully installed ninja-1.10.2.3\n",
            "Looking in indexes: https://pypi.org/simple, https://us-python.pkg.dev/colab-wheels/public/simple/\n",
            "Collecting trimesh==3.9.20\n",
            "  Downloading trimesh-3.9.20-py3-none-any.whl (632 kB)\n",
            "\u001b[K     |████████████████████████████████| 632 kB 5.0 MB/s \n",
            "\u001b[?25hRequirement already satisfied: setuptools in /usr/local/lib/python3.7/dist-packages (from trimesh==3.9.20) (57.4.0)\n",
            "Requirement already satisfied: numpy in /usr/local/lib/python3.7/dist-packages (from trimesh==3.9.20) (1.18.1)\n",
            "Installing collected packages: trimesh\n",
            "Successfully installed trimesh-3.9.20\n"
          ]
        }
      ]
    },
    {
      "cell_type": "code",
      "source": [
        "!rm -rf /content/Deep3DFaceRecon_pytorch/test_images"
      ],
      "metadata": {
        "id": "V4WxIAyZtyAB"
      },
      "execution_count": 9,
      "outputs": []
    },
    {
      "cell_type": "code",
      "source": [
        "!cp -rf /content/gdrive/MyDrive/models/Deep3DFaceRecon_pytorch/test_images /content/Deep3DFaceRecon_pytorch/test_images"
      ],
      "metadata": {
        "id": "XUEu1-Jnt5hK"
      },
      "execution_count": 10,
      "outputs": []
    },
    {
      "cell_type": "code",
      "source": [
        "!python dlib_for_detector.py -i test_images -o test_images/detections -v marked_images --lmk5p"
      ],
      "metadata": {
        "colab": {
          "base_uri": "https://localhost:8080/"
        },
        "id": "HsGmkRLUrnZZ",
        "outputId": "83cdd9a2-df5c-4720-90de-d6ec64727c14"
      },
      "execution_count": 11,
      "outputs": [
        {
          "output_type": "stream",
          "name": "stdout",
          "text": [
            "100% 1/1 [00:12<00:00, 12.93s/it]\n"
          ]
        }
      ]
    },
    {
      "cell_type": "code",
      "source": [
        "!python test.py --name=pretrained_model --epoch=20 --img_folder=./datasets/examples"
      ],
      "metadata": {
        "colab": {
          "base_uri": "https://localhost:8080/"
        },
        "id": "nMFHYQ8urwq_",
        "outputId": "d4a9cab5-5581-4bda-e05a-6a99325ab1d7"
      },
      "execution_count": 13,
      "outputs": [
        {
          "output_type": "stream",
          "name": "stdout",
          "text": [
            "/usr/local/lib/python3.7/dist-packages/kornia/augmentation/augmentation.py:1875: DeprecationWarning: GaussianBlur is no longer maintained and will be removed from the future versions. Please use RandomGaussianBlur instead.\n",
            "  category=DeprecationWarning,\n",
            "----------------- Options ---------------\n",
            "                add_image: True                          \n",
            "               bfm_folder: BFM                           \n",
            "                bfm_model: BFM_model_front.mat           \n",
            "                 camera_d: 10.0                          \n",
            "                   center: 112.0                         \n",
            "          checkpoints_dir: ./checkpoints                 \n",
            "             dataset_mode: None                          \n",
            "                 ddp_port: 12355                         \n",
            "        display_per_batch: True                          \n",
            "                    epoch: 20                            \t[default: latest]\n",
            "          eval_batch_nums: inf                           \n",
            "                    focal: 1015.0                        \n",
            "                  gpu_ids: 0                             \n",
            "               img_folder: ./datasets/examples           \t[default: examples]\n",
            "                init_path: checkpoints/init_model/resnet50-0676ba61.pth\n",
            "                  isTrain: False                         \t[default: None]\n",
            "                    model: facerecon                     \n",
            "                     name: pretrained_model              \t[default: face_recon]\n",
            "                net_recon: resnet50                      \n",
            "                    phase: test                          \n",
            "                   suffix:                               \n",
            "                  use_ddp: False                         \t[default: True]\n",
            "              use_last_fc: False                         \n",
            "                  verbose: False                         \n",
            "           vis_batch_nums: 1                             \n",
            "               world_size: 1                             \n",
            "                    z_far: 15.0                          \n",
            "                   z_near: 5.0                           \n",
            "----------------- End -------------------\n",
            "model [FaceReconModel] was created\n",
            "loading the model from ./checkpoints/pretrained_model/epoch_20.pth\n",
            "0 ./datasets/examples/000002.jpg\n",
            "create glctx on device cuda:0\n",
            "1 ./datasets/examples/000006.jpg\n",
            "2 ./datasets/examples/000007.jpg\n",
            "3 ./datasets/examples/000031.jpg\n",
            "4 ./datasets/examples/000033.jpg\n",
            "5 ./datasets/examples/000037.jpg\n",
            "6 ./datasets/examples/000050.jpg\n",
            "7 ./datasets/examples/000055.jpg\n",
            "8 ./datasets/examples/000114.jpg\n",
            "9 ./datasets/examples/000125.jpg\n",
            "10 ./datasets/examples/000126.jpg\n",
            "11 ./datasets/examples/015259.jpg\n",
            "12 ./datasets/examples/015270.jpg\n",
            "13 ./datasets/examples/015309.jpg\n",
            "14 ./datasets/examples/015310.jpg\n",
            "15 ./datasets/examples/015316.jpg\n",
            "16 ./datasets/examples/015384.jpg\n",
            "17 ./datasets/examples/vd006.png\n",
            "18 ./datasets/examples/vd025.png\n",
            "19 ./datasets/examples/vd026.png\n",
            "20 ./datasets/examples/vd034.png\n",
            "21 ./datasets/examples/vd051.png\n",
            "22 ./datasets/examples/vd070.png\n",
            "23 ./datasets/examples/vd092.png\n",
            "24 ./datasets/examples/vd102.png\n"
          ]
        }
      ]
    },
    {
      "cell_type": "code",
      "source": [
        ""
      ],
      "metadata": {
        "id": "Pt-_tRjmr842"
      },
      "execution_count": null,
      "outputs": []
    }
  ]
}