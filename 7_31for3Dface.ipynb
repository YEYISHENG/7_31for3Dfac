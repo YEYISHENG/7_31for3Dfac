{
  "nbformat": 4,
  "nbformat_minor": 0,
  "metadata": {
    "colab": {
      "name": "Untitled4.ipynb",
      "provenance": [],
      "authorship_tag": "ABX9TyP93HJ/MzM7S/By5vriFkUR",
      "include_colab_link": true
    },
    "kernelspec": {
      "name": "python3",
      "display_name": "Python 3"
    },
    "language_info": {
      "name": "python"
    },
    "accelerator": "GPU",
    "gpuClass": "standard"
  },
  "cells": [
    {
      "cell_type": "markdown",
      "metadata": {
        "id": "view-in-github",
        "colab_type": "text"
      },
      "source": [
        "<a href=\"https://colab.research.google.com/github/YEYISHENG/7_31for3Dfac/blob/main/7_31for3Dface.ipynb\" target=\"_parent\"><img src=\"https://colab.research.google.com/assets/colab-badge.svg\" alt=\"Open In Colab\"/></a>"
      ]
    },
    {
      "cell_type": "code",
      "execution_count": null,
      "metadata": {
        "colab": {
          "base_uri": "https://localhost:8080/"
        },
        "id": "Vc3DoOt_pOZR",
        "outputId": "d6ee3148-c64a-46d1-c4e5-b62c26c69782"
      },
      "outputs": [
        {
          "output_type": "stream",
          "name": "stdout",
          "text": [
            "Mounted at /content/gdrive\n"
          ]
        }
      ],
      "source": [
        "from google.colab import drive\n",
        "drive.mount('/content/gdrive') #make colab keep connect with my google drive"
      ]
    },
    {
      "cell_type": "code",
      "source": [
        "!git clone https://github.com/sicxu/Deep3DFaceRecon_pytorch.git --recursive\n",
        "%cd Deep3DFaceRecon_pytorch/\n",
        "\n",
        "%cd nvdiffrast\n",
        "!pip install .\n",
        "\n",
        "%cd ..\n",
        "!git clone https://github.com/deepinsight/insightface.git\n",
        "!cp -r ./insightface/recognition/arcface_torch ./models/"
      ],
      "metadata": {
        "colab": {
          "base_uri": "https://localhost:8080/"
        },
        "id": "ZyJZ4lRJpWRs",
        "outputId": "e067a21e-58b2-46cc-bb6a-a8357040ef55"
      },
      "execution_count": null,
      "outputs": [
        {
          "output_type": "stream",
          "name": "stdout",
          "text": [
            "Cloning into 'Deep3DFaceRecon_pytorch'...\n",
            "remote: Enumerating objects: 159, done.\u001b[K\n",
            "remote: Counting objects: 100% (3/3), done.\u001b[K\n",
            "remote: Compressing objects: 100% (3/3), done.\u001b[K\n",
            "remote: Total 159 (delta 0), reused 2 (delta 0), pack-reused 156\u001b[K\n",
            "Receiving objects: 100% (159/159), 14.65 MiB | 9.31 MiB/s, done.\n",
            "Resolving deltas: 100% (32/32), done.\n",
            "Submodule 'nvdiffrast' (https://github.com/NVlabs/nvdiffrast.git) registered for path 'nvdiffrast'\n",
            "Cloning into '/content/Deep3DFaceRecon_pytorch/Deep3DFaceRecon_pytorch/nvdiffrast'...\n",
            "remote: Enumerating objects: 270, done.        \n",
            "remote: Total 270 (delta 0), reused 0 (delta 0), pack-reused 270        \n",
            "Receiving objects: 100% (270/270), 11.08 MiB | 6.05 MiB/s, done.\n",
            "Resolving deltas: 100% (117/117), done.\n",
            "Submodule path 'nvdiffrast': checked out 'a4e7a4db7e09695b4efc7641cc6b044ef706f953'\n",
            "/content/Deep3DFaceRecon_pytorch/Deep3DFaceRecon_pytorch\n",
            "/content/Deep3DFaceRecon_pytorch/Deep3DFaceRecon_pytorch/nvdiffrast\n",
            "Looking in indexes: https://pypi.org/simple, https://us-python.pkg.dev/colab-wheels/public/simple/\n",
            "Processing /content/Deep3DFaceRecon_pytorch/Deep3DFaceRecon_pytorch/nvdiffrast\n",
            "\u001b[33m  DEPRECATION: A future pip version will change local packages to be built in-place without first copying to a temporary directory. We recommend you use --use-feature=in-tree-build to test your packages with this new behavior before it becomes the default.\n",
            "   pip 21.3 will remove support for this functionality. You can find discussion regarding this at https://github.com/pypa/pip/issues/7555.\u001b[0m\n",
            "Requirement already satisfied: numpy in /usr/local/lib/python3.7/dist-packages (from nvdiffrast==0.2.5) (1.21.6)\n",
            "Building wheels for collected packages: nvdiffrast\n",
            "  Building wheel for nvdiffrast (setup.py) ... \u001b[?25l\u001b[?25hdone\n",
            "  Created wheel for nvdiffrast: filename=nvdiffrast-0.2.5-py3-none-any.whl size=93570 sha256=f06a1824a865bc38dabb76c94c3e142084f55e6a7fd447f63b6b19e268faae1e\n",
            "  Stored in directory: /tmp/pip-ephem-wheel-cache-z604ua2g/wheels/b3/53/fe/4fefea97a85aa31770acc889225a7545d0ee64c267c7c85dd2\n",
            "Successfully built nvdiffrast\n",
            "Installing collected packages: nvdiffrast\n",
            "  Attempting uninstall: nvdiffrast\n",
            "    Found existing installation: nvdiffrast 0.2.5\n",
            "    Uninstalling nvdiffrast-0.2.5:\n",
            "      Successfully uninstalled nvdiffrast-0.2.5\n",
            "Successfully installed nvdiffrast-0.2.5\n",
            "/content/Deep3DFaceRecon_pytorch/Deep3DFaceRecon_pytorch\n",
            "Cloning into 'insightface'...\n",
            "remote: Enumerating objects: 9337, done.\u001b[K\n",
            "remote: Counting objects: 100% (31/31), done.\u001b[K\n",
            "remote: Compressing objects: 100% (19/19), done.\u001b[K\n",
            "remote: Total 9337 (delta 16), reused 19 (delta 12), pack-reused 9306\u001b[K\n",
            "Receiving objects: 100% (9337/9337), 30.82 MiB | 16.79 MiB/s, done.\n",
            "Resolving deltas: 100% (5072/5072), done.\n"
          ]
        }
      ]
    },
    {
      "cell_type": "code",
      "source": [
        "!rm -rf  /content/Deep3DFaceRecon_pytorch/BFM\n",
        "!cp -rf /content/gdrive/MyDrive/models/Deep3DFaceRecon_pytorch/BFM BFM\n",
        "!pip install numpy==1.18.1\n",
        "!pip install kornia==0.5.5\n",
        "!pip install dominate==2.6.0\n",
        "!pip install trimesh==3.9.20\n",
        "!pip install ninja\n",
        "!pip install mtcnn"
      ],
      "metadata": {
        "colab": {
          "base_uri": "https://localhost:8080/",
          "height": 1000
        },
        "id": "CsDTnPDCpiIR",
        "outputId": "075fb92d-686a-4744-ca3c-50492386553f"
      },
      "execution_count": null,
      "outputs": [
        {
          "output_type": "stream",
          "name": "stdout",
          "text": [
            "Looking in indexes: https://pypi.org/simple, https://us-python.pkg.dev/colab-wheels/public/simple/\n",
            "Collecting numpy==1.18.1\n",
            "  Downloading numpy-1.18.1-cp37-cp37m-manylinux1_x86_64.whl (20.1 MB)\n",
            "\u001b[K     |████████████████████████████████| 20.1 MB 4.5 MB/s \n",
            "\u001b[?25hInstalling collected packages: numpy\n",
            "  Attempting uninstall: numpy\n",
            "    Found existing installation: numpy 1.21.6\n",
            "    Uninstalling numpy-1.21.6:\n",
            "      Successfully uninstalled numpy-1.21.6\n",
            "\u001b[31mERROR: pip's dependency resolver does not currently take into account all the packages that are installed. This behaviour is the source of the following dependency conflicts.\n",
            "xarray-einstats 0.2.2 requires numpy>=1.21, but you have numpy 1.18.1 which is incompatible.\n",
            "tensorflow 2.8.2+zzzcolab20220719082949 requires numpy>=1.20, but you have numpy 1.18.1 which is incompatible.\n",
            "tables 3.7.0 requires numpy>=1.19.0, but you have numpy 1.18.1 which is incompatible.\n",
            "kapre 0.3.7 requires numpy>=1.18.5, but you have numpy 1.18.1 which is incompatible.\n",
            "jaxlib 0.3.14+cuda11.cudnn805 requires numpy>=1.19, but you have numpy 1.18.1 which is incompatible.\n",
            "jax 0.3.14 requires numpy>=1.19, but you have numpy 1.18.1 which is incompatible.\n",
            "datascience 0.10.6 requires folium==0.2.1, but you have folium 0.8.3 which is incompatible.\n",
            "cmdstanpy 1.0.4 requires numpy>=1.21, but you have numpy 1.18.1 which is incompatible.\n",
            "albumentations 0.1.12 requires imgaug<0.2.7,>=0.2.5, but you have imgaug 0.2.9 which is incompatible.\u001b[0m\n",
            "Successfully installed numpy-1.18.1\n"
          ]
        },
        {
          "output_type": "display_data",
          "data": {
            "application/vnd.colab-display-data+json": {
              "pip_warning": {
                "packages": [
                  "numpy"
                ]
              }
            }
          },
          "metadata": {}
        },
        {
          "output_type": "stream",
          "name": "stdout",
          "text": [
            "Looking in indexes: https://pypi.org/simple, https://us-python.pkg.dev/colab-wheels/public/simple/\n",
            "Collecting kornia==0.5.5\n",
            "  Downloading kornia-0.5.5-py2.py3-none-any.whl (292 kB)\n",
            "\u001b[K     |████████████████████████████████| 292 kB 7.2 MB/s \n",
            "\u001b[?25hRequirement already satisfied: numpy<=1.19 in /usr/local/lib/python3.7/dist-packages (from kornia==0.5.5) (1.18.1)\n",
            "Requirement already satisfied: torch>=1.6.0 in /usr/local/lib/python3.7/dist-packages (from kornia==0.5.5) (1.12.0+cu113)\n",
            "Requirement already satisfied: typing-extensions in /usr/local/lib/python3.7/dist-packages (from torch>=1.6.0->kornia==0.5.5) (4.1.1)\n",
            "Installing collected packages: kornia\n",
            "Successfully installed kornia-0.5.5\n",
            "Looking in indexes: https://pypi.org/simple, https://us-python.pkg.dev/colab-wheels/public/simple/\n",
            "Collecting dominate==2.6.0\n",
            "  Downloading dominate-2.6.0-py2.py3-none-any.whl (29 kB)\n",
            "Installing collected packages: dominate\n",
            "Successfully installed dominate-2.6.0\n",
            "Looking in indexes: https://pypi.org/simple, https://us-python.pkg.dev/colab-wheels/public/simple/\n",
            "Collecting trimesh==3.9.20\n",
            "  Downloading trimesh-3.9.20-py3-none-any.whl (632 kB)\n",
            "\u001b[K     |████████████████████████████████| 632 kB 7.2 MB/s \n",
            "\u001b[?25hRequirement already satisfied: numpy in /usr/local/lib/python3.7/dist-packages (from trimesh==3.9.20) (1.18.1)\n",
            "Requirement already satisfied: setuptools in /usr/local/lib/python3.7/dist-packages (from trimesh==3.9.20) (57.4.0)\n",
            "Installing collected packages: trimesh\n",
            "Successfully installed trimesh-3.9.20\n",
            "Looking in indexes: https://pypi.org/simple, https://us-python.pkg.dev/colab-wheels/public/simple/\n",
            "Collecting ninja\n",
            "  Downloading ninja-1.10.2.3-py2.py3-none-manylinux_2_5_x86_64.manylinux1_x86_64.whl (108 kB)\n",
            "\u001b[K     |████████████████████████████████| 108 kB 6.9 MB/s \n",
            "\u001b[?25hInstalling collected packages: ninja\n",
            "Successfully installed ninja-1.10.2.3\n",
            "Looking in indexes: https://pypi.org/simple, https://us-python.pkg.dev/colab-wheels/public/simple/\n",
            "Collecting mtcnn\n",
            "  Downloading mtcnn-0.1.1-py3-none-any.whl (2.3 MB)\n",
            "\u001b[K     |████████████████████████████████| 2.3 MB 7.4 MB/s \n",
            "\u001b[?25hRequirement already satisfied: keras>=2.0.0 in /usr/local/lib/python3.7/dist-packages (from mtcnn) (2.8.0)\n",
            "Requirement already satisfied: opencv-python>=4.1.0 in /usr/local/lib/python3.7/dist-packages (from mtcnn) (4.6.0.66)\n",
            "Requirement already satisfied: numpy>=1.14.5 in /usr/local/lib/python3.7/dist-packages (from opencv-python>=4.1.0->mtcnn) (1.18.1)\n",
            "Installing collected packages: mtcnn\n",
            "Successfully installed mtcnn-0.1.1\n"
          ]
        }
      ]
    },
    {
      "cell_type": "code",
      "source": [
        "!cp -rf /content/gdrive/MyDrive/models/Deep3DFaceRecon_pytorch/chechpoints/pretrained_model/epoch_20.pth /content/Deep3DFaceRecon_pytorch/checkpoints/pretrained_model"
      ],
      "metadata": {
        "id": "xsn0ejj7p8x9",
        "colab": {
          "base_uri": "https://localhost:8080/"
        },
        "outputId": "74178fab-9ca4-4a1f-a521-8f5a3fb6bd12"
      },
      "execution_count": null,
      "outputs": [
        {
          "output_type": "stream",
          "name": "stdout",
          "text": [
            "cp: cannot create regular file '/content/Deep3DFaceRecon_pytorch/checkpoints/pretrained_model': No such file or directory\n"
          ]
        }
      ]
    },
    {
      "cell_type": "code",
      "source": [
        "!python test.py --name=pretrained_model --epoch=20 --img_folder=./datasets/examples\n"
      ],
      "metadata": {
        "colab": {
          "base_uri": "https://localhost:8080/"
        },
        "id": "h4jOKHsOrYTH",
        "outputId": "277ca442-54af-4ec6-8263-2e8c564662d8"
      },
      "execution_count": null,
      "outputs": [
        {
          "output_type": "stream",
          "name": "stdout",
          "text": [
            "/usr/local/lib/python3.7/dist-packages/kornia/augmentation/augmentation.py:1875: DeprecationWarning: GaussianBlur is no longer maintained and will be removed from the future versions. Please use RandomGaussianBlur instead.\n",
            "  category=DeprecationWarning,\n",
            "----------------- Options ---------------\n",
            "                add_image: True                          \n",
            "               bfm_folder: BFM                           \n",
            "                bfm_model: BFM_model_front.mat           \n",
            "                 camera_d: 10.0                          \n",
            "                   center: 112.0                         \n",
            "          checkpoints_dir: ./checkpoints                 \n",
            "             dataset_mode: None                          \n",
            "                 ddp_port: 12355                         \n",
            "        display_per_batch: True                          \n",
            "                    epoch: 20                            \t[default: latest]\n",
            "          eval_batch_nums: inf                           \n",
            "                    focal: 1015.0                        \n",
            "                  gpu_ids: 0                             \n",
            "               img_folder: ./datasets/examples           \t[default: examples]\n",
            "                init_path: checkpoints/init_model/resnet50-0676ba61.pth\n",
            "                  isTrain: False                         \t[default: None]\n",
            "                    model: facerecon                     \n",
            "                     name: pretrained_model              \t[default: face_recon]\n",
            "                net_recon: resnet50                      \n",
            "                    phase: test                          \n",
            "                   suffix:                               \n",
            "                  use_ddp: False                         \t[default: True]\n",
            "              use_last_fc: False                         \n",
            "                  verbose: False                         \n",
            "           vis_batch_nums: 1                             \n",
            "               world_size: 1                             \n",
            "                    z_far: 15.0                          \n",
            "                   z_near: 5.0                           \n",
            "----------------- End -------------------\n",
            "model [FaceReconModel] was created\n",
            "loading the model from ./checkpoints/pretrained_model/epoch_20.pth\n",
            "0 ./datasets/examples/000002.jpg\n",
            "create glctx on device cuda:0\n",
            "1 ./datasets/examples/000006.jpg\n",
            "2 ./datasets/examples/000007.jpg\n",
            "3 ./datasets/examples/000031.jpg\n",
            "4 ./datasets/examples/000033.jpg\n",
            "5 ./datasets/examples/000037.jpg\n",
            "6 ./datasets/examples/000050.jpg\n",
            "7 ./datasets/examples/000055.jpg\n",
            "8 ./datasets/examples/000114.jpg\n",
            "9 ./datasets/examples/000125.jpg\n",
            "10 ./datasets/examples/000126.jpg\n",
            "11 ./datasets/examples/015259.jpg\n",
            "12 ./datasets/examples/015270.jpg\n",
            "13 ./datasets/examples/015309.jpg\n",
            "14 ./datasets/examples/015310.jpg\n",
            "15 ./datasets/examples/015316.jpg\n",
            "16 ./datasets/examples/015384.jpg\n",
            "17 ./datasets/examples/vd006.png\n",
            "18 ./datasets/examples/vd025.png\n",
            "19 ./datasets/examples/vd026.png\n",
            "20 ./datasets/examples/vd034.png\n",
            "21 ./datasets/examples/vd051.png\n",
            "22 ./datasets/examples/vd070.png\n",
            "23 ./datasets/examples/vd092.png\n",
            "24 ./datasets/examples/vd102.png\n"
          ]
        }
      ]
    },
    {
      "cell_type": "code",
      "source": [
        "\n",
        "!cp -rf /content/gdrive/MyDrive/models/Deep3DFaceRecon_pytorch /content/Deep3DFaceRecon_pytorch"
      ],
      "metadata": {
        "id": "Cmpoew5NTUUr"
      },
      "execution_count": null,
      "outputs": []
    },
    {
      "cell_type": "code",
      "source": [
        "!python detector.py -i "
      ],
      "metadata": {
        "id": "B4ZhenLmFN_P"
      },
      "execution_count": null,
      "outputs": []
    },
    {
      "cell_type": "code",
      "source": [
        "!cp -rf /content/dlib_for_detector.py /content/Deep3DFaceRecon_pytorch/util/dlib_for_detector.py"
      ],
      "metadata": {
        "id": "kzlqRoKjScH2"
      },
      "execution_count": null,
      "outputs": []
    },
    {
      "cell_type": "code",
      "source": [
        "%cd /content/gdrive/MyDrive/models/Deep3DFaceRecon_pytorch\n"
      ],
      "metadata": {
        "colab": {
          "base_uri": "https://localhost:8080/"
        },
        "id": "JREV-_s8VftB",
        "outputId": "8cd97bd3-9ada-41f6-a7c2-af7cb8df06e3"
      },
      "execution_count": null,
      "outputs": [
        {
          "output_type": "stream",
          "name": "stdout",
          "text": [
            "/content/gdrive/MyDrive/models/Deep3DFaceRecon_pytorch\n"
          ]
        }
      ]
    },
    {
      "cell_type": "code",
      "source": [
        "!python dlib_for_detector.py -h"
      ],
      "metadata": {
        "colab": {
          "base_uri": "https://localhost:8080/"
        },
        "id": "_w4177jeVr85",
        "outputId": "0ea2cff1-0ccc-48f5-fc77-2c56c8e9d6e7"
      },
      "execution_count": null,
      "outputs": [
        {
          "output_type": "stream",
          "name": "stdout",
          "text": [
            "usage: dlib_for_detector.py [-h] [-p SHAPE_PREDICTOR] [-i INPUT] [-o OUTPUT]\n",
            "                            [-v VIS] [--lmk5p]\n",
            "\n",
            "optional arguments:\n",
            "  -h, --help            show this help message and exit\n",
            "  -p SHAPE_PREDICTOR, --shape-predictor SHAPE_PREDICTOR\n",
            "                        path to facial landmark predictor\n",
            "  -i INPUT, --input INPUT\n",
            "                        path to input image or input folders\n",
            "  -o OUTPUT, --output OUTPUT\n",
            "                        path to output directory for landmark saving\n",
            "  -v VIS, --vis VIS     path to output directory for landmark visualization\n",
            "  --lmk5p               convert lmk68 to lmk5\n"
          ]
        }
      ]
    },
    {
      "cell_type": "code",
      "source": [
        "!python dlib_for_detector.py -i test_images -o test_images/detections -v marked_images --lmk5p"
      ],
      "metadata": {
        "colab": {
          "base_uri": "https://localhost:8080/"
        },
        "id": "o2vkwHpkWvdx",
        "outputId": "e50f43dd-c4bd-4377-cc61-865427e7e580"
      },
      "execution_count": null,
      "outputs": [
        {
          "output_type": "stream",
          "name": "stdout",
          "text": [
            "100% 1/1 [00:00<00:00,  3.58it/s]\n"
          ]
        }
      ]
    },
    {
      "cell_type": "code",
      "source": [
        ""
      ],
      "metadata": {
        "id": "MI1ECI6PXtRD"
      },
      "execution_count": null,
      "outputs": []
    }
  ]
}